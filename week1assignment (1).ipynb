{
  "nbformat": 4,
  "nbformat_minor": 0,
  "metadata": {
    "colab": {
      "name": "week1assignment.ipynb",
      "provenance": []
    },
    "kernelspec": {
      "name": "python3",
      "display_name": "Python 3"
    }
  },
  "cells": [
    {
      "cell_type": "code",
      "metadata": {
        "id": "F-6bE0dYcBgA",
        "colab_type": "code",
        "colab": {}
      },
      "source": [
        "## Import stuff\n",
        " \n",
        "import numpy as np\n",
        "import matplotlib.pyplot as plt\n",
        "from sklearn import datasets, linear_model, metrics"
      ],
      "execution_count": 0,
      "outputs": []
    },
    {
      "cell_type": "code",
      "metadata": {
        "id": "gK71NIhMcEs5",
        "colab_type": "code",
        "colab": {}
      },
      "source": [
        "## Load the diabetes dataset\n",
        "diabetes = datasets.load_diabetes()\n",
        "diabetes_X = diabetes.data # matrix of dimensions 442x10\n",
        " \n",
        "# Split the data into training/testing sets\n",
        "diabetes_X_train = diabetes_X[:-20]\n",
        "diabetes_X_test = diabetes_X[-20:]\n",
        " \n",
        "# Split the targets into training/testing sets\n",
        "diabetes_y_train = diabetes.target[:-20]\n",
        "diabetes_y_test = diabetes.target[-20:]\n",
        "\n",
        "diabetes_y_train = diabetes_y_train.reshape((422, 1))\n",
        "diabetes_y_test = diabetes_y_test.reshape((20, 1))"
      ],
      "execution_count": 0,
      "outputs": []
    },
    {
      "cell_type": "code",
      "metadata": {
        "id": "XJTg22ybcHsl",
        "colab_type": "code",
        "outputId": "31907297-5c6a-4954-b05c-e9c3c04e9759",
        "colab": {
          "base_uri": "https://localhost:8080/",
          "height": 652
        }
      },
      "source": [
        "# train\n",
        "X = diabetes_X_train\n",
        "y = diabetes_y_train\n",
        " \n",
        "# train: init\n",
        "W = np.zeros((10, 1))\n",
        "b = np.zeros((1))\n",
        " \n",
        "learning_rate = 0.01\n",
        "epochs = 100001\n",
        "loss = np.zeros((epochs))\n",
        " \n",
        "# train: gradient descent\n",
        "for i in range(epochs):\n",
        "    # calculate predictions\n",
        "    z = np.dot(X, W) + b\n",
        " \n",
        "    # calculate error and cost (mean squared error)\n",
        "    error = z - y\n",
        "    mean_squared_error = 0.5 * np.mean(error**2)\n",
        " \n",
        "    # calculate gradients\n",
        "    grad = X.T @ (error)\n",
        " \n",
        "    # update parameters\n",
        "    W = W - (learning_rate/422) * grad\n",
        "    b = b - learning_rate * np.mean(error)\n",
        "    loss[i] = mean_squared_error\n",
        " \n",
        "    # diagnostic output\n",
        "    if i % 5000 == 0: print(\"Epoch %d: %f\" % (i, mean_squared_error))\n",
        "\n",
        "plt.plot(range(epochs), loss, 'r')\n",
        "plt.xlabel('Epochs')\n",
        "plt.ylabel('Loss On Training Set')\n",
        "plt.title('Loss vs Epochs')\n",
        "plt.show()"
      ],
      "execution_count": 66,
      "outputs": [
        {
          "output_type": "stream",
          "text": [
            "Epoch 0: 14734.323460\n",
            "Epoch 5000: 2300.781663\n",
            "Epoch 10000: 1981.676898\n",
            "Epoch 15000: 1815.670181\n",
            "Epoch 20000: 1719.390182\n",
            "Epoch 25000: 1657.449804\n",
            "Epoch 30000: 1614.214057\n",
            "Epoch 35000: 1582.321647\n",
            "Epoch 40000: 1557.984646\n",
            "Epoch 45000: 1539.038403\n",
            "Epoch 50000: 1524.113409\n",
            "Epoch 55000: 1512.269413\n",
            "Epoch 60000: 1502.823401\n",
            "Epoch 65000: 1495.261426\n",
            "Epoch 70000: 1489.188576\n",
            "Epoch 75000: 1484.297622\n",
            "Epoch 80000: 1480.347725\n",
            "Epoch 85000: 1477.149148\n",
            "Epoch 90000: 1474.551870\n",
            "Epoch 95000: 1472.436931\n",
            "Epoch 100000: 1470.709770\n"
          ],
          "name": "stdout"
        },
        {
          "output_type": "display_data",
          "data": {
            "image/png": "[encoded data removed]",
            "text/plain": [
              "<Figure size 432x288 with 1 Axes>"
            ]
          },
          "metadata": {
            "tags": [],
            "needs_background": "light"
          }
        }
      ]
    },
    {
      "cell_type": "code",
      "metadata": {
        "id": "uvSdTn-0cKJL",
        "colab_type": "code",
        "outputId": "757d3af8-e6af-4911-fdb0-3ad4528e30b5",
        "colab": {
          "base_uri": "https://localhost:8080/",
          "height": 238
        }
      },
      "source": [
        "# test\n",
        "X = diabetes_X_test\n",
        "y = diabetes_y_test\n",
        " \n",
        "# calculate predictions + calculate error and cost (same code as above)\n",
        "z = np.dot(X, W) + b\n",
        "mean_squared_error = 0.5 * np.mean((z - y) ** 2)\n",
        "\n",
        "print('Coefficients: \\n', W)\n",
        "print(\"Mean squared error: %.2f\" % mean_squared_error)\n",
        "print(\"=\"*120)"
      ],
      "execution_count": 67,
      "outputs": [
        {
          "output_type": "stream",
          "text": [
            "Coefficients: \n",
            " [[  15.50843402]\n",
            " [-195.65463449]\n",
            " [ 480.34268936]\n",
            " [ 305.03426754]\n",
            " [ -46.34258184]\n",
            " [-104.19372398]\n",
            " [-210.00866907]\n",
            " [ 132.20151181]\n",
            " [ 397.98818223]\n",
            " [ 125.06108866]]\n",
            "Mean squared error: 1062.57\n",
            "========================================================================================================================\n"
          ],
          "name": "stdout"
        }
      ]
    },
    {
      "cell_type": "code",
      "metadata": {
        "id": "3W_r0oCenp3f",
        "colab_type": "code",
        "colab": {}
      },
      "source": [
        ""
      ],
      "execution_count": 0,
      "outputs": []
    },
    {
      "cell_type": "code",
      "metadata": {
        "id": "Rmrbc0pxAwqI",
        "colab_type": "code",
        "colab": {}
      },
      "source": [
        ""
      ],
      "execution_count": 0,
      "outputs": []
    },
    {
      "cell_type": "code",
      "metadata": {
        "id": "zdiI7HIQAxCV",
        "colab_type": "code",
        "colab": {}
      },
      "source": [
        ""
      ],
      "execution_count": 0,
      "outputs": []
    }
  ]
}